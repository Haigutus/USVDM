{
 "cells": [
  {
   "cell_type": "code",
   "execution_count": 1,
   "metadata": {},
   "outputs": [],
   "source": [
    "import sys\n",
    "sys.path.append(\"..\")\n",
    "\n",
    "from RDF_parser import load_all_to_dataframe\n",
    "from tieflow import get_EquivalentInjections_NetInterchange_TieFlows\n",
    "\n",
    "\n",
    "\n",
    "\n",
    "#path = r\"C:\\IOPs\\AST_TP_try_0519.zip\"\n",
    "\n",
    "#path = \"FlowExample.zip\"\n",
    "\n",
    "#path = r\"C:\\Users\\kristjan.vilgo\\Downloads\\20180829T0130Z_NG_EQ_001.zip\"\n",
    "\n",
    "#path = \"C:\\IOPs\\IOP160119\\CE02_BD16012019_1D_Amprion_BusBranch.zip\"\n",
    "\n",
    "#path = \"C:\\IOPs\\IOP160119\\CE03_BD16012019_1D_APG_BusBranch.zip\"\n",
    "\n",
    "path = r\"C:\\IOPs\\IOP150519\\BA03_20190515_1D_LITGRID_001_NodeBreaker.zip\"\n",
    "#path = \"C:\\IOPs\\IOP160119\\BA03_20190116_1D_LITGRID_001_NodeBreaker.zip\"\n",
    "\n",
    "#path = \"C:\\IOPs\\IOP160119\\CE09_BD16012019_1D_Energinet_NodeBreaker\\CE09_BD16012019_1D_Energinet_NodeBreaker_DKW.zip\"\n",
    "\n",
    "#path = \"C:\\IOPs\\IOP160119\\BA02_BD16012019_1D_Elering_001_NodeBreaker.zip\"\n",
    "\n",
    "#path = \"C:\\IOPs\\IOP160119\\BA01_BD16012019_1D_AST_001_BusBranch.zip\"\n",
    "\n",
    "#data = load_all_to_dataframe([path, path2])\n",
    "\n",
    "\n",
    "\n",
    "\n"
   ]
  },
  {
   "cell_type": "code",
   "execution_count": 2,
   "metadata": {},
   "outputs": [
    {
     "name": "stdout",
     "output_type": "stream",
     "text": [
      "WARNING 2 - Not supported file: ./\n",
      "INFO - Loading 20181105T0000Z_ENTSO-E_EQ_BD_001.xml\n",
      "INFO - Loading 20181105T0000Z_ENTSO-E_TP_BD_001.xml\n",
      "INFO - Loading 20190514T0030Z_LITGRID_EQ_001.xml\n",
      "INFO - Loading 20190514T2230Z_1D_LITGRID_SSH_001.xml\n",
      "INFO - Loading 20190514T2230Z_1D_LITGRID_SV_001.xml\n",
      "INFO - Loading 20190514T2230Z_1D_LITGRID_TP_001.xml\n",
      "INFO - Loading 20190514T2330Z_1D_LITGRID_SSH_001.xml\n",
      "INFO - Loading 20190514T2330Z_1D_LITGRID_SV_001.xml\n",
      "INFO - Loading 20190514T2330Z_1D_LITGRID_TP_001.xml\n",
      "INFO - Loading 20190515T0030Z_1D_LITGRID_SSH_001.xml\n",
      "INFO - Loading 20190515T0030Z_1D_LITGRID_SV_001.xml\n",
      "INFO - Loading 20190515T0030Z_1D_LITGRID_TP_001.xml\n",
      "INFO - Loading 20190515T0130Z_1D_LITGRID_SSH_001.xml\n",
      "INFO - Loading 20190515T0130Z_1D_LITGRID_SV_001.xml\n",
      "INFO - Loading 20190515T0130Z_1D_LITGRID_TP_001.xml\n",
      "INFO - Loading 20190515T0230Z_1D_LITGRID_SSH_001.xml\n",
      "INFO - Loading 20190515T0230Z_1D_LITGRID_SV_001.xml\n",
      "INFO - Loading 20190515T0230Z_1D_LITGRID_TP_001.xml\n",
      "INFO - Loading 20190515T0330Z_1D_LITGRID_SSH_001.xml\n",
      "INFO - Loading 20190515T0330Z_1D_LITGRID_SV_001.xml\n",
      "INFO - Loading 20190515T0330Z_1D_LITGRID_TP_001.xml\n",
      "INFO - Loading 20190515T0430Z_1D_LITGRID_SSH_001.xml\n",
      "INFO - Loading 20190515T0430Z_1D_LITGRID_SV_001.xml\n",
      "INFO - Loading 20190515T0430Z_1D_LITGRID_TP_001.xml\n",
      "INFO - Loading 20190515T0530Z_1D_LITGRID_SSH_001.xml\n",
      "INFO - Loading 20190515T0530Z_1D_LITGRID_SV_001.xml\n",
      "INFO - Loading 20190515T0530Z_1D_LITGRID_TP_001.xml\n",
      "INFO - Loading 20190515T0630Z_1D_LITGRID_SSH_001.xml\n",
      "INFO - Loading 20190515T0630Z_1D_LITGRID_SV_001.xml\n",
      "INFO - Loading 20190515T0630Z_1D_LITGRID_TP_001.xml\n",
      "INFO - Loading 20190515T0730Z_1D_LITGRID_SSH_001.xml\n",
      "INFO - Loading 20190515T0730Z_1D_LITGRID_SV_001.xml\n",
      "INFO - Loading 20190515T0730Z_1D_LITGRID_TP_001.xml\n",
      "INFO - Loading 20190515T0830Z_1D_LITGRID_SSH_001.xml\n",
      "INFO - Loading 20190515T0830Z_1D_LITGRID_SV_001.xml\n",
      "INFO - Loading 20190515T0830Z_1D_LITGRID_TP_001.xml\n",
      "INFO - Loading 20190515T0930Z_1D_LITGRID_SSH_001.xml\n",
      "INFO - Loading 20190515T0930Z_1D_LITGRID_SV_001.xml\n",
      "INFO - Loading 20190515T0930Z_1D_LITGRID_TP_001.xml\n",
      "INFO - Loading 20190515T1030Z_1D_LITGRID_SSH_001.xml\n",
      "INFO - Loading 20190515T1030Z_1D_LITGRID_SV_001.xml\n",
      "INFO - Loading 20190515T1030Z_1D_LITGRID_TP_001.xml\n",
      "INFO - Loading 20190515T1130Z_1D_LITGRID_SSH_001.xml\n",
      "INFO - Loading 20190515T1130Z_1D_LITGRID_SV_001.xml\n",
      "INFO - Loading 20190515T1130Z_1D_LITGRID_TP_001.xml\n",
      "INFO - Loading 20190515T1230Z_1D_LITGRID_SSH_001.xml\n",
      "INFO - Loading 20190515T1230Z_1D_LITGRID_SV_001.xml\n",
      "INFO - Loading 20190515T1230Z_1D_LITGRID_TP_001.xml\n",
      "INFO - Loading 20190515T1330Z_1D_LITGRID_SSH_001.xml\n",
      "INFO - Loading 20190515T1330Z_1D_LITGRID_SV_001.xml\n",
      "INFO - Loading 20190515T1330Z_1D_LITGRID_TP_001.xml\n",
      "INFO - Loading 20190515T1430Z_1D_LITGRID_SSH_001.xml\n",
      "INFO - Loading 20190515T1430Z_1D_LITGRID_SV_001.xml\n",
      "INFO - Loading 20190515T1430Z_1D_LITGRID_TP_001.xml\n",
      "INFO - Loading 20190515T1530Z_1D_LITGRID_SSH_001.xml\n",
      "INFO - Loading 20190515T1530Z_1D_LITGRID_SV_001.xml\n",
      "INFO - Loading 20190515T1530Z_1D_LITGRID_TP_001.xml\n",
      "INFO - Loading 20190515T1630Z_1D_LITGRID_SSH_001.xml\n",
      "INFO - Loading 20190515T1630Z_1D_LITGRID_SV_001.xml\n",
      "INFO - Loading 20190515T1630Z_1D_LITGRID_TP_001.xml\n",
      "INFO - Loading 20190515T1730Z_1D_LITGRID_SSH_001.xml\n",
      "INFO - Loading 20190515T1730Z_1D_LITGRID_SV_001.xml\n",
      "INFO - Loading 20190515T1730Z_1D_LITGRID_TP_001.xml\n",
      "INFO - Loading 20190515T1830Z_1D_LITGRID_SSH_001.xml\n",
      "INFO - Loading 20190515T1830Z_1D_LITGRID_SV_001.xml\n",
      "INFO - Loading 20190515T1830Z_1D_LITGRID_TP_001.xml\n",
      "INFO - Loading 20190515T1930Z_1D_LITGRID_SSH_001.xml\n",
      "INFO - Loading 20190515T1930Z_1D_LITGRID_SV_001.xml\n",
      "INFO - Loading 20190515T1930Z_1D_LITGRID_TP_001.xml\n",
      "INFO - Loading 20190515T2030Z_1D_LITGRID_SSH_001.xml\n",
      "INFO - Loading 20190515T2030Z_1D_LITGRID_SV_001.xml\n",
      "INFO - Loading 20190515T2030Z_1D_LITGRID_TP_001.xml\n",
      "INFO - Loading 20190515T2130Z_1D_LITGRID_SSH_001.xml\n",
      "INFO - Loading 20190515T2130Z_1D_LITGRID_SV_001.xml\n",
      "INFO - Loading 20190515T2130Z_1D_LITGRID_TP_001.xml\n"
     ]
    }
   ],
   "source": [
    "data = load_all_to_dataframe([path])"
   ]
  },
  {
   "cell_type": "code",
   "execution_count": 3,
   "metadata": {},
   "outputs": [
    {
     "name": "stderr",
     "output_type": "stream",
     "text": [
      "C:\\USVDM\\Tools\\RDF_PARSER\\examples\\tieflow.py:47: FutureWarning: `item` has been deprecated and will be removed in a future version\n",
      "  EQ_UUID = dependancies.query(\"PROFILE == 'http://entsoe.eu/CIM/EquipmentCore/3/1'\")[\"INSTANCE_ID\"].item() #should be faster\n",
      "C:\\USVDM\\Tools\\RDF_PARSER\\examples\\tieflow.py:120: FutureWarning: `item` has been deprecated and will be removed in a future version\n",
      "  EquivalentInjections_sum = EquivalentInjections[['EquivalentInjection.p']].sum().item()\n"
     ]
    },
    {
     "data": {
      "text/html": [
       "<div>\n",
       "<style scoped>\n",
       "    .dataframe tbody tr th:only-of-type {\n",
       "        vertical-align: middle;\n",
       "    }\n",
       "\n",
       "    .dataframe tbody tr th {\n",
       "        vertical-align: top;\n",
       "    }\n",
       "\n",
       "    .dataframe thead tr th {\n",
       "        text-align: left;\n",
       "    }\n",
       "</style>\n",
       "<table border=\"1\" class=\"dataframe\">\n",
       "  <thead>\n",
       "    <tr>\n",
       "      <th></th>\n",
       "      <th>NetInterchange</th>\n",
       "      <th>TieFlows</th>\n",
       "      <th>EquivalentInjections</th>\n",
       "    </tr>\n",
       "    <tr>\n",
       "      <th></th>\n",
       "      <th>10YLT-1001A0008Q</th>\n",
       "      <th>10YLT-1001A0008Q</th>\n",
       "      <th>10YLT-1001A0008Q</th>\n",
       "    </tr>\n",
       "  </thead>\n",
       "  <tbody>\n",
       "    <tr>\n",
       "      <th>2018-11-05</th>\n",
       "      <td>-607.9</td>\n",
       "      <td>-383.3</td>\n",
       "      <td>-600.1</td>\n",
       "    </tr>\n",
       "  </tbody>\n",
       "</table>\n",
       "</div>"
      ],
      "text/plain": [
       "             NetInterchange         TieFlows EquivalentInjections\n",
       "           10YLT-1001A0008Q 10YLT-1001A0008Q     10YLT-1001A0008Q\n",
       "2018-11-05           -607.9           -383.3               -600.1"
      ]
     },
     "execution_count": 3,
     "metadata": {},
     "output_type": "execute_result"
    }
   ],
   "source": [
    "get_EquivalentInjections_NetInterchange_TieFlows(data)"
   ]
  },
  {
   "cell_type": "code",
   "execution_count": null,
   "metadata": {},
   "outputs": [],
   "source": []
  }
 ],
 "metadata": {
  "kernelspec": {
   "display_name": "Python 3",
   "language": "python",
   "name": "python3"
  },
  "language_info": {
   "codemirror_mode": {
    "name": "ipython",
    "version": 3
   },
   "file_extension": ".py",
   "mimetype": "text/x-python",
   "name": "python",
   "nbconvert_exporter": "python",
   "pygments_lexer": "ipython3",
   "version": "3.7.2"
  }
 },
 "nbformat": 4,
 "nbformat_minor": 2
}
